{
 "cells": [
  {
   "cell_type": "markdown",
   "metadata": {},
   "source": [
    "# Tarea 5 - Árbol de Desición\n",
    "\n",
    "***Inteligencia Artificial***\n",
    "\n",
    "***II Semestre 2024***\n",
    "\n",
    "***Tecnológico de Costa Rica***\n",
    "\n",
    "Estudiantes: \n",
    "- Esteban Guzmán\n",
    "- Rolando Mora"
   ]
  },
  {
   "cell_type": "code",
   "execution_count": 1,
   "metadata": {},
   "outputs": [],
   "source": [
    "import pandas as pd\n",
    "import numpy as np"
   ]
  },
  {
   "cell_type": "markdown",
   "metadata": {},
   "source": [
    "## Actividad - Taller\n",
    "\n",
    "1. Cree una clase nodo con atributos necesarios para un árbol de decisión: feature, umbral, gini, cantidad_muestras, valor, izquierda, derecha"
   ]
  },
  {
   "cell_type": "code",
   "execution_count": null,
   "metadata": {},
   "outputs": [],
   "source": [
    "class Nodo:\n",
    "    # :param feature: Índice de la característica utilizada para la división en este nodo.\n",
    "    # :param umbral: Valor del umbral utilizado para la división.\n",
    "    # :param gini: Índice de Gini de este nodo.\n",
    "    # :param cantidad_muestras: Número de muestras en este nodo.\n",
    "    # :param valor: Valor de la clase para nodos hoja (puede ser el valor promedio o la clase más común).\n",
    "    # :param izquierda: Nodo hijo izquierdo.\n",
    "    # :param derecha: Nodo hijo derecho.\n",
    "    def __init__(self, feature, umbral, gini, cantidad_muestras, valor, izquierda, derecha):\n",
    "        self.feature = feature\n",
    "        self.umbral = umbral\n",
    "        self.gini = gini\n",
    "        self.cantidad_muestras = cantidad_muestras\n",
    "        self.valor = valor\n",
    "        self.izquierda = izquierda\n",
    "        self.derecha = derecha"
   ]
  }
 ],
 "metadata": {
  "kernelspec": {
   "display_name": "Python 3",
   "language": "python",
   "name": "python3"
  },
  "language_info": {
   "codemirror_mode": {
    "name": "ipython",
    "version": 3
   },
   "file_extension": ".py",
   "mimetype": "text/x-python",
   "name": "python",
   "nbconvert_exporter": "python",
   "pygments_lexer": "ipython3",
   "version": "3.10.7"
  }
 },
 "nbformat": 4,
 "nbformat_minor": 2
}
