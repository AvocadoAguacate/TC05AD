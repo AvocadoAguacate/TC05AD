{
 "cells": [
  {
   "cell_type": "markdown",
   "metadata": {},
   "source": [
    "# Tarea 5 - Árbol de Desición\n",
    "\n",
    "***Inteligencia Artificial***\n",
    "\n",
    "***II Semestre 2024***\n",
    "\n",
    "***Tecnológico de Costa Rica***\n",
    "\n",
    "Estudiantes: \n",
    "- Esteban Guzmán\n",
    "- Rolando Mora"
   ]
  },
  {
   "cell_type": "code",
   "execution_count": 1,
   "metadata": {},
   "outputs": [],
   "source": [
    "import pandas as pd\n",
    "import numpy as np"
   ]
  },
  {
   "cell_type": "markdown",
   "metadata": {},
   "source": [
    "## Actividad - Taller\n",
    "\n",
    "1. Cree una clase nodo con atributos necesarios para un árbol de decisión: feature, umbral, gini, cantidad_muestras, valor, izquierda, derecha"
   ]
  },
  {
   "cell_type": "code",
   "execution_count": null,
   "metadata": {},
   "outputs": [],
   "source": [
    "class Nodo:\n",
    "    # :param feature: Índice de la característica utilizada para la división en este nodo.\n",
    "    # :param umbral: Valor del umbral utilizado para la división.\n",
    "    # :param gini: Índice de Gini de este nodo.\n",
    "    # :param cantidad_muestras: Número de muestras en este nodo.\n",
    "    # :param valor: Valor de la clase para nodos hoja (puede ser el valor promedio o la clase más común).\n",
    "    # :param izquierda: Nodo hijo izquierdo.\n",
    "    # :param derecha: Nodo hijo derecho.\n",
    "    def __init__(self, feature, umbral, gini, cantidad_muestras, valor, izquierda, derecha):\n",
    "        self.feature = feature\n",
    "        self.umbral = umbral\n",
    "        self.gini = gini\n",
    "        self.cantidad_muestras = cantidad_muestras\n",
    "        self.valor = valor\n",
    "        self.izquierda = izquierda\n",
    "        self.derecha = derecha"
   ]
  },
  {
   "cell_type": "markdown",
   "metadata": {},
   "source": [
    "2. Crea una clase que implementa un árbol de decisión, utilice las funciones presentadas en clase, además incluya los siguientes hyperparámetros:\n",
    "- max_depth: Cantidad máxima de variables que se pueden explorar\n",
    "- min_split_samples: Cantidad mínima de muestras que deberá tener un nodo para poder ser dividido\n",
    "- criterio: función que se utilizará para calcular la impuridad."
   ]
  },
  {
   "cell_type": "code",
   "execution_count": null,
   "metadata": {},
   "outputs": [],
   "source": [
    "class ArbolDecision:\n",
    "    # :param max_depth: Profundidad máxima del árbol.\n",
    "    # :param min_split_samples: Número mínimo de muestras necesarias para dividir un nodo.\n",
    "    # :param criterio: Criterio utilizado para calcular la impureza ('gini' o 'entropia').\n",
    "    def __init__(self, max_depth, min_split_samples=2, criterio=\"gini\"):\n",
    "        self.max_depth = max_depth\n",
    "        self.min_split_samples = min_split_samples\n",
    "        self.criterio = criterio\n",
    "        self.raiz = None\n",
    "    def _gini(self, y):\n",
    "        clases, counts = np.unique(y, return_counts=True)\n",
    "        p = counts / len(y)\n",
    "        return 1 - np.sum(p ** 2)"
   ]
  }
 ],
 "metadata": {
  "kernelspec": {
   "display_name": "TCvenv",
   "language": "python",
   "name": "python3"
  },
  "language_info": {
   "codemirror_mode": {
    "name": "ipython",
    "version": 3
   },
   "file_extension": ".py",
   "mimetype": "text/x-python",
   "name": "python",
   "nbconvert_exporter": "python",
   "pygments_lexer": "ipython3",
   "version": "3.12.5"
  }
 },
 "nbformat": 4,
 "nbformat_minor": 2
}
